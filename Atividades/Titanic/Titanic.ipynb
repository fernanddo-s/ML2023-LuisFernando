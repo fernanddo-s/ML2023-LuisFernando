{
  "nbformat": 4,
  "nbformat_minor": 0,
  "metadata": {
    "colab": {
      "provenance": []
    },
    "kernelspec": {
      "name": "python3",
      "display_name": "Python 3"
    },
    "language_info": {
      "name": "python"
    }
  },
  "cells": [
    {
      "cell_type": "code",
      "execution_count": 21,
      "metadata": {
        "colab": {
          "base_uri": "https://localhost:8080/"
        },
        "id": "eNLczCSwr6KI",
        "outputId": "017ace37-c08d-454e-95b6-846393e96073"
      },
      "outputs": [
        {
          "output_type": "stream",
          "name": "stdout",
          "text": [
            "Acurácia: 0.7988826815642458\n",
            "Relatório de Métricas:\n",
            "               precision    recall  f1-score   support\n",
            "\n",
            "           0       0.81      0.86      0.83       105\n",
            "           1       0.78      0.72      0.75        74\n",
            "\n",
            "    accuracy                           0.80       179\n",
            "   macro avg       0.80      0.79      0.79       179\n",
            "weighted avg       0.80      0.80      0.80       179\n",
            "\n"
          ]
        },
        {
          "output_type": "stream",
          "name": "stderr",
          "text": [
            "<ipython-input-21-997bcaef2b34>:20: FutureWarning: The default value of numeric_only in DataFrame.mean is deprecated. In a future version, it will default to False. In addition, specifying 'numeric_only=None' is deprecated. Select only valid columns or specify the value of numeric_only to silence this warning.\n",
            "  treino = treino.fillna(treino.mean())\n",
            "<ipython-input-21-997bcaef2b34>:21: FutureWarning: The default value of numeric_only in DataFrame.mean is deprecated. In a future version, it will default to False. In addition, specifying 'numeric_only=None' is deprecated. Select only valid columns or specify the value of numeric_only to silence this warning.\n",
            "  teste = teste.fillna(teste.mean())\n",
            "/usr/local/lib/python3.9/dist-packages/sklearn/linear_model/_logistic.py:458: ConvergenceWarning: lbfgs failed to converge (status=1):\n",
            "STOP: TOTAL NO. of ITERATIONS REACHED LIMIT.\n",
            "\n",
            "Increase the number of iterations (max_iter) or scale the data as shown in:\n",
            "    https://scikit-learn.org/stable/modules/preprocessing.html\n",
            "Please also refer to the documentation for alternative solver options:\n",
            "    https://scikit-learn.org/stable/modules/linear_model.html#logistic-regression\n",
            "  n_iter_i = _check_optimize_result(\n"
          ]
        }
      ],
      "source": [
        "import pandas as pd\n",
        "from sklearn.model_selection import train_test_split\n",
        "from sklearn.linear_model import LogisticRegression\n",
        "from sklearn.metrics import accuracy_score, classification_report\n",
        "\n",
        "# Carrega os dados de treino\n",
        "url_treino = \"https://raw.githubusercontent.com/fernanddo-s/ml2023-LuisFernando/master/Atividades/Titanic/train.csv\"\n",
        "treino = pd.read_csv(url_treino)\n",
        "\n",
        "# Carrega os dados de teste\n",
        "url_teste = \"https://raw.githubusercontent.com/fernanddo-s/ml2023-LuisFernando/master/Atividades/Titanic/test.csv\"\n",
        "teste = pd.read_csv(url_teste)\n",
        "\n",
        "# Seleciona as colunas relevantes para o modelo\n",
        "colunas = ['Pclass', 'Sex', 'Age', 'SibSp', 'Parch', 'Fare', 'Embarked', 'Survived']\n",
        "treino = treino[colunas]\n",
        "teste = teste[['Pclass', 'Sex', 'Age', 'SibSp', 'Parch', 'Fare', 'Embarked']]\n",
        "\n",
        "# Preenche os valores ausentes\n",
        "treino = treino.fillna(treino.mean())\n",
        "teste = teste.fillna(teste.mean())\n",
        "\n",
        "# Converte as variáveis categóricas em numéricas\n",
        "treino = pd.get_dummies(treino, columns=['Sex', 'Embarked'])\n",
        "teste = pd.get_dummies(teste, columns=['Sex', 'Embarked'])\n",
        "\n",
        "# Separa as features e a variável alvo\n",
        "X = treino.drop('Survived', axis=1)\n",
        "y = treino['Survived']\n",
        "\n",
        "# Divide o conjunto de treino em treino e validação\n",
        "X_treino, X_valid, y_treino, y_valid = train_test_split(X, y, test_size=0.2, random_state=42)\n",
        "\n",
        "# Treina o modelo de Regressão Logística\n",
        "modelo = LogisticRegression()\n",
        "modelo.fit(X_treino, y_treino)\n",
        "\n",
        "# Realiza a predição no conjunto de validação\n",
        "y_pred = modelo.predict(X_valid)\n",
        "\n",
        "# Calcula a acurácia e o relatório de métricas\n",
        "acuracia = accuracy_score(y_valid, y_pred)\n",
        "relatorio = classification_report(y_valid, y_pred)\n",
        "\n",
        "print(\"Acurácia:\", acuracia)\n",
        "print(\"Relatório de Métricas:\\n\", relatorio)\n"
      ]
    }
  ]
}