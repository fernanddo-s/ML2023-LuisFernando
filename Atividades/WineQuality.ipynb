{
  "nbformat": 4,
  "nbformat_minor": 0,
  "metadata": {
    "colab": {
      "provenance": []
    },
    "kernelspec": {
      "name": "python3",
      "display_name": "Python 3"
    },
    "language_info": {
      "name": "python"
    }
  },
  "cells": [
    {
      "cell_type": "code",
      "execution_count": 15,
      "metadata": {
        "id": "agHJS1O9Q7dw",
        "colab": {
          "base_uri": "https://localhost:8080/"
        },
        "outputId": "d46c449e-9e9b-4ad1-cd77-069b0cdb9025"
      },
      "outputs": [
        {
          "output_type": "stream",
          "name": "stdout",
          "text": [
            "Erro absoluto médio (MAE) para o conjunto de treino: 875054153532.87\n",
            "Erro absoluto médio (MAE) para o conjunto de teste: 890575550116.21\n",
            "Erro quadrático médio (MSE) para o conjunto de treino: 864772141948720444866560.00\n",
            "Erro quadrático médio (MSE) para o conjunto de teste: 902391392313853234642944.00\n"
          ]
        }
      ],
      "source": [
        "from sklearn.linear_model import SGDRegressor\n",
        "from sklearn.model_selection import train_test_split\n",
        "from sklearn.metrics import mean_absolute_error, mean_squared_error\n",
        "import pandas as pd\n",
        "\n",
        "# carrega os dados\n",
        "data = pd.read_csv('https://github.com/liviaalmada/ml2023/blob/master/llistas/modelos_lineares/winequality-white.csv?raw=true', delimiter=';')\n",
        "\n",
        "# separa os dados em variáveis de entrada (X) e saída (y)\n",
        "X = data.drop(columns=['quality'])\n",
        "y = data['quality']\n",
        "\n",
        "# divide os dados em conjuntos de treino e teste (80% para treino, 20% para teste)\n",
        "X_train, X_test, y_train, y_test = train_test_split(X, y, test_size=0.2, random_state=42)\n",
        "\n",
        "# cria o modelo de regressão linear com o algoritmo SGDRegressor\n",
        "model = SGDRegressor(random_state=3)\n",
        "\n",
        "# treina o modelo com os dados de treino\n",
        "model.fit(X_train, y_train)\n",
        "\n",
        "# faz as previsões com os dados de treino e teste\n",
        "y_train_pred = model.predict(X_train)\n",
        "y_test_pred = model.predict(X_test)\n",
        "\n",
        "# calcula o erro absoluto médio e o erro quadrático médio para os dados de treino e teste\n",
        "mae_train = mean_absolute_error(y_train, y_train_pred)\n",
        "mae_test = mean_absolute_error(y_test, y_test_pred)\n",
        "mse_train = mean_squared_error(y_train, y_train_pred)\n",
        "mse_test = mean_squared_error(y_test, y_test_pred)\n",
        "\n",
        "# exibe os resultados\n",
        "print('Erro absoluto médio (MAE) para o conjunto de treino: {:.2f}'.format(mae_train))\n",
        "print('Erro absoluto médio (MAE) para o conjunto de teste: {:.2f}'.format(mae_test))\n",
        "print('Erro quadrático médio (MSE) para o conjunto de treino: {:.2f}'.format(mse_train))\n",
        "print('Erro quadrático médio (MSE) para o conjunto de teste: {:.2f}'.format(mse_test))"
      ]
    },
    {
      "cell_type": "markdown",
      "source": [
        "Ao analisar os resultados dos erros médios absolutos e quadráticos no conjunto de treino e teste, notamos que houve um ligeiro aumento desses valores no conjunto de teste em relação ao conjunto de treino. Essa discrepância era esperada, já que o modelo foi treinado especificamente com os dados do conjunto de treino e, portanto, é natural que ele tenha mais dificuldade em generalizar para dados desconhecidos no conjunto de teste. Porém, é importante destacar que os erros nos dois conjuntos são bastante próximos, o que indica que o modelo não está sofrendo de overfitting, ou seja, ele não está se ajustando excessivamente aos dados do conjunto de treino e perdendo capacidade de generalização. Diante disso, podemos concluir que o modelo apresentou um bom desempenho em ambos os conjuntos de dados."
      ],
      "metadata": {
        "id": "SYulWC-5YFh1"
      }
    }
  ]
}